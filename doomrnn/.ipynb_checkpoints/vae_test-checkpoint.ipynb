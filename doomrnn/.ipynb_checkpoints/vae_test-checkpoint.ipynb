{
 "cells": [
  {
   "cell_type": "markdown",
   "metadata": {},
   "source": [
    "Test VAE model on random frame of random file in `record`"
   ]
  },
  {
   "cell_type": "code",
   "execution_count": 1,
   "metadata": {},
   "outputs": [
    {
     "name": "stderr",
     "output_type": "stream",
     "text": [
      "/home/beeperman/.conda/envs/wme/lib/python3.5/site-packages/h5py/__init__.py:36: FutureWarning: Conversion of the second argument of issubdtype from `float` to `np.floating` is deprecated. In future, it will be treated as `np.float64 == np.dtype(float).type`.\n",
      "  from ._conv import register_converters as _register_converters\n"
     ]
    }
   ],
   "source": [
    "import numpy as np\n",
    "import os\n",
    "import json\n",
    "import tensorflow as tf\n",
    "import random\n",
    "from doomrnn import reset_graph, ConvVAE"
   ]
  },
  {
   "cell_type": "code",
   "execution_count": 2,
   "metadata": {},
   "outputs": [],
   "source": [
    "import matplotlib.pyplot as plt\n",
    "np.set_printoptions(precision=4, edgeitems=6, linewidth=100, suppress=True)"
   ]
  },
  {
   "cell_type": "code",
   "execution_count": 3,
   "metadata": {},
   "outputs": [],
   "source": [
    "os.environ[\"CUDA_VISIBLE_DEVICES\"]=\"-1\" # disable GPU\n",
    "\n",
    "DATA_DIR = \"record\"\n",
    "#model_path_name = \"tf_models\"\n",
    "#model_path_name = \"tf_vae\"\n",
    "#model_path = os.path.join(\"tf_vae\", 'vae.json')\n",
    "model_path = os.path.join(\"tf_beta_vae\", 'b10.0_3.json')\n",
    "# NOTE: make sure you copy the vae model you want to test from tf_vae/vae.json to tf_models/vae.json\n",
    "\n",
    "z_size=64"
   ]
  },
  {
   "cell_type": "code",
   "execution_count": 4,
   "metadata": {},
   "outputs": [],
   "source": [
    "filelist = os.listdir(DATA_DIR)"
   ]
  },
  {
   "cell_type": "code",
   "execution_count": 5,
   "metadata": {},
   "outputs": [],
   "source": [
    "obs = np.load(os.path.join(DATA_DIR, random.choice(filelist)))[\"obs\"]\n",
    "obs = obs.astype(np.float32)/255.0"
   ]
  },
  {
   "cell_type": "code",
   "execution_count": 6,
   "metadata": {},
   "outputs": [
    {
     "data": {
      "text/plain": [
       "(338, 64, 64, 3)"
      ]
     },
     "execution_count": 6,
     "metadata": {},
     "output_type": "execute_result"
    }
   ],
   "source": [
    "obs.shape"
   ]
  },
  {
   "cell_type": "code",
   "execution_count": 7,
   "metadata": {},
   "outputs": [],
   "source": [
    "frame = random.choice(obs).reshape(1, 64, 64, 3)"
   ]
  },
  {
   "cell_type": "code",
   "execution_count": 8,
   "metadata": {},
   "outputs": [
    {
     "name": "stdout",
     "output_type": "stream",
     "text": [
      "INFO:tensorflow:Model using cpu.\n"
     ]
    }
   ],
   "source": [
    "vae = ConvVAE(z_size=z_size,\n",
    "              batch_size=1,\n",
    "              is_training=True,\n",
    "              reuse=tf.AUTO_REUSE,\n",
    "              gpu_mode=False)\n",
    "\n",
    "vae.load_json()"
   ]
  },
  {
   "cell_type": "code",
   "execution_count": 9,
   "metadata": {},
   "outputs": [
    {
     "data": {
      "image/png": "[encoded data removed]",
      "text/plain": [
       "<Figure size 432x288 with 1 Axes>"
      ]
     },
     "metadata": {
      "needs_background": "light"
     },
     "output_type": "display_data"
    }
   ],
   "source": [
    "# show recorded frame that will be fed into the input of VAE\n",
    "plt.imshow(frame[0])\n",
    "plt.show()"
   ]
  },
  {
   "cell_type": "code",
   "execution_count": 10,
   "metadata": {},
   "outputs": [
    {
     "name": "stdout",
     "output_type": "stream",
     "text": [
      "[-0.9315 -1.535  -0.7399  1.5239  0.6749  1.0487  0.1417 -1.5085 -1.1118 -0.3442 -1.3868 -0.1834\n",
      " -1.13   -0.4148  1.637   1.0226 -0.223   0.1722 -0.4876 -0.6464 -0.7607  1.8564 -0.444  -0.8825\n",
      " -0.2609  1.1816 -0.0993  0.5819 -0.8867 -0.8869  0.3127 -0.4518  0.1559  0.2338  0.6381 -0.9045\n",
      "  0.9539  1.2981  0.3465  2.1043 -0.1478 -0.851  -0.5331  0.3251  0.8056 -1.3124 -1.0922 -1.3857\n",
      " -2.0017  2.7338 -0.2453  0.6321  0.0033 -1.2442  0.887  -0.3001  1.3071  0.023   0.4619  0.5431\n",
      " -0.8102 -1.5178 -0.5625 -0.8449]\n"
     ]
    }
   ],
   "source": [
    "batch_z = vae.encode(frame)\n",
    "print(batch_z[0]) # print out sampled z\n",
    "reconstruct = vae.decode(batch_z)"
   ]
  },
  {
   "cell_type": "code",
   "execution_count": 11,
   "metadata": {},
   "outputs": [
    {
     "data": {
      "image/png": "[encoded data removed]",
      "text/plain": [
       "<Figure size 432x288 with 1 Axes>"
      ]
     },
     "metadata": {
      "needs_background": "light"
     },
     "output_type": "display_data"
    }
   ],
   "source": [
    "# show reconstruction\n",
    "plt.imshow(reconstruct[0])\n",
    "plt.show()"
   ]
  },
  {
   "cell_type": "code",
   "execution_count": 107,
   "metadata": {},
   "outputs": [
    {
     "data": {
      "text/plain": [
       "[322.63113, 290.63113, 32.0]"
      ]
     },
     "execution_count": 107,
     "metadata": {},
     "output_type": "execute_result"
    }
   ],
   "source": [
    "#(train_loss, r_loss, kl_loss, train_step, _) = \n",
    "vae.sess.run([\n",
    "            vae.loss, vae.r_loss, vae.kl_loss\n",
    "        ], {vae.x: frame})"
   ]
  },
  {
   "cell_type": "code",
   "execution_count": 77,
   "metadata": {},
   "outputs": [
    {
     "data": {
      "text/plain": [
       "array([[[[0.3647, 0.3647, 0.3647],\n",
       "         [0.3647, 0.3647, 0.3647],\n",
       "         [0.3686, 0.3686, 0.3686],\n",
       "         [0.3765, 0.3765, 0.3765],\n",
       "         [0.3765, 0.3765, 0.3765],\n",
       "         [0.3765, 0.3765, 0.3765],\n",
       "         ...,\n",
       "         [0.3725, 0.3725, 0.3725],\n",
       "         [0.3725, 0.3725, 0.3725],\n",
       "         [0.3647, 0.3647, 0.3647],\n",
       "         [0.3725, 0.3725, 0.3725],\n",
       "         [0.3765, 0.3765, 0.3765],\n",
       "         [0.3804, 0.3804, 0.3804]],\n",
       "\n",
       "        [[0.3765, 0.3765, 0.3765],\n",
       "         [0.3765, 0.3765, 0.3765],\n",
       "         [0.3725, 0.3725, 0.3725],\n",
       "         [0.3804, 0.3804, 0.3804],\n",
       "         [0.3804, 0.3804, 0.3804],\n",
       "         [0.3804, 0.3804, 0.3804],\n",
       "         ...,\n",
       "         [0.3804, 0.3804, 0.3804],\n",
       "         [0.3725, 0.3725, 0.3725],\n",
       "         [0.3765, 0.3765, 0.3765],\n",
       "         [0.3804, 0.3804, 0.3804],\n",
       "         [0.3725, 0.3725, 0.3725],\n",
       "         [0.3765, 0.3765, 0.3765]],\n",
       "\n",
       "        [[0.3725, 0.3725, 0.3725],\n",
       "         [0.3765, 0.3765, 0.3765],\n",
       "         [0.3725, 0.3725, 0.3725],\n",
       "         [0.3686, 0.3686, 0.3686],\n",
       "         [0.3686, 0.3686, 0.3686],\n",
       "         [0.3725, 0.3725, 0.3725],\n",
       "         ...,\n",
       "         [0.3725, 0.3725, 0.3725],\n",
       "         [0.3647, 0.3647, 0.3647],\n",
       "         [0.3725, 0.3725, 0.3725],\n",
       "         [0.3765, 0.3765, 0.3765],\n",
       "         [0.3686, 0.3686, 0.3686],\n",
       "         [0.3725, 0.3725, 0.3725]],\n",
       "\n",
       "        [[0.3647, 0.3647, 0.3647],\n",
       "         [0.3647, 0.3647, 0.3647],\n",
       "         [0.3765, 0.3765, 0.3765],\n",
       "         [0.3725, 0.3725, 0.3725],\n",
       "         [0.3686, 0.3686, 0.3686],\n",
       "         [0.3765, 0.3765, 0.3765],\n",
       "         ...,\n",
       "         [0.3725, 0.3725, 0.3725],\n",
       "         [0.3647, 0.3647, 0.3647],\n",
       "         [0.3686, 0.3686, 0.3686],\n",
       "         [0.3686, 0.3686, 0.3686],\n",
       "         [0.3686, 0.3686, 0.3686],\n",
       "         [0.3725, 0.3725, 0.3725]],\n",
       "\n",
       "        [[0.3647, 0.3647, 0.3647],\n",
       "         [0.3647, 0.3647, 0.3647],\n",
       "         [0.3686, 0.3686, 0.3686],\n",
       "         [0.3608, 0.3608, 0.3608],\n",
       "         [0.3647, 0.3647, 0.3647],\n",
       "         [0.3647, 0.3647, 0.3647],\n",
       "         ...,\n",
       "         [0.3725, 0.3725, 0.3725],\n",
       "         [0.3647, 0.3647, 0.3647],\n",
       "         [0.3647, 0.3647, 0.3647],\n",
       "         [0.3647, 0.3647, 0.3647],\n",
       "         [0.3647, 0.3647, 0.3647],\n",
       "         [0.3608, 0.3608, 0.3608]],\n",
       "\n",
       "        [[0.3765, 0.3765, 0.3765],\n",
       "         [0.3765, 0.3765, 0.3765],\n",
       "         [0.3725, 0.3725, 0.3725],\n",
       "         [0.3647, 0.3647, 0.3647],\n",
       "         [0.3725, 0.3725, 0.3725],\n",
       "         [0.3765, 0.3765, 0.3765],\n",
       "         ...,\n",
       "         [0.3765, 0.3765, 0.3765],\n",
       "         [0.3686, 0.3686, 0.3686],\n",
       "         [0.3686, 0.3686, 0.3686],\n",
       "         [0.3725, 0.3725, 0.3725],\n",
       "         [0.3765, 0.3765, 0.3765],\n",
       "         [0.3686, 0.3686, 0.3686]],\n",
       "\n",
       "        ...,\n",
       "\n",
       "        [[0.3647, 0.3647, 0.3647],\n",
       "         [0.3725, 0.3725, 0.3725],\n",
       "         [0.3725, 0.3725, 0.3725],\n",
       "         [0.3647, 0.3647, 0.3647],\n",
       "         [0.3686, 0.3686, 0.3686],\n",
       "         [0.3725, 0.3725, 0.3725],\n",
       "         ...,\n",
       "         [0.3804, 0.3804, 0.3804],\n",
       "         [0.3647, 0.3647, 0.3647],\n",
       "         [0.3686, 0.3686, 0.3686],\n",
       "         [0.3843, 0.3843, 0.3843],\n",
       "         [0.3843, 0.3843, 0.3843],\n",
       "         [0.3686, 0.3686, 0.3686]],\n",
       "\n",
       "        [[0.3569, 0.3569, 0.3569],\n",
       "         [0.3608, 0.3608, 0.3608],\n",
       "         [0.3647, 0.3647, 0.3647],\n",
       "         [0.3608, 0.3608, 0.3608],\n",
       "         [0.3647, 0.3647, 0.3647],\n",
       "         [0.3647, 0.3647, 0.3647],\n",
       "         ...,\n",
       "         [0.3647, 0.3647, 0.3647],\n",
       "         [0.3686, 0.3686, 0.3686],\n",
       "         [0.3608, 0.3608, 0.3608],\n",
       "         [0.3608, 0.3608, 0.3608],\n",
       "         [0.3647, 0.3647, 0.3647],\n",
       "         [0.3647, 0.3647, 0.3647]],\n",
       "\n",
       "        [[0.3608, 0.3608, 0.3608],\n",
       "         [0.3569, 0.3569, 0.3569],\n",
       "         [0.3569, 0.3569, 0.3569],\n",
       "         [0.3647, 0.3647, 0.3647],\n",
       "         [0.3647, 0.3647, 0.3647],\n",
       "         [0.3647, 0.3647, 0.3647],\n",
       "         ...,\n",
       "         [0.3647, 0.3647, 0.3647],\n",
       "         [0.3647, 0.3647, 0.3647],\n",
       "         [0.3647, 0.3647, 0.3647],\n",
       "         [0.3647, 0.3647, 0.3647],\n",
       "         [0.3569, 0.3569, 0.3569],\n",
       "         [0.3647, 0.3647, 0.3647]],\n",
       "\n",
       "        [[0.3765, 0.3765, 0.3765],\n",
       "         [0.3725, 0.3725, 0.3725],\n",
       "         [0.3686, 0.3686, 0.3686],\n",
       "         [0.3725, 0.3725, 0.3725],\n",
       "         [0.3725, 0.3725, 0.3725],\n",
       "         [0.3686, 0.3686, 0.3686],\n",
       "         ...,\n",
       "         [0.3765, 0.3765, 0.3765],\n",
       "         [0.3686, 0.3686, 0.3686],\n",
       "         [0.3647, 0.3647, 0.3647],\n",
       "         [0.3765, 0.3765, 0.3765],\n",
       "         [0.3686, 0.3686, 0.3686],\n",
       "         [0.3686, 0.3686, 0.3686]],\n",
       "\n",
       "        [[0.3725, 0.3725, 0.3725],\n",
       "         [0.3725, 0.3725, 0.3725],\n",
       "         [0.3686, 0.3686, 0.3686],\n",
       "         [0.3686, 0.3686, 0.3686],\n",
       "         [0.3647, 0.3647, 0.3647],\n",
       "         [0.3608, 0.3608, 0.3608],\n",
       "         ...,\n",
       "         [0.3647, 0.3647, 0.3647],\n",
       "         [0.3647, 0.3647, 0.3647],\n",
       "         [0.3647, 0.3647, 0.3647],\n",
       "         [0.3686, 0.3686, 0.3686],\n",
       "         [0.3647, 0.3647, 0.3647],\n",
       "         [0.3647, 0.3647, 0.3647]],\n",
       "\n",
       "        [[0.3804, 0.3804, 0.3804],\n",
       "         [0.3843, 0.3843, 0.3843],\n",
       "         [0.3843, 0.3843, 0.3843],\n",
       "         [0.3725, 0.3725, 0.3725],\n",
       "         [0.3765, 0.3765, 0.3765],\n",
       "         [0.3686, 0.3686, 0.3686],\n",
       "         ...,\n",
       "         [0.3725, 0.3725, 0.3725],\n",
       "         [0.3843, 0.3843, 0.3843],\n",
       "         [0.3804, 0.3804, 0.3804],\n",
       "         [0.3725, 0.3725, 0.3725],\n",
       "         [0.3725, 0.3725, 0.3725],\n",
       "         [0.3686, 0.3686, 0.3686]]]], dtype=float32)"
      ]
     },
     "execution_count": 77,
     "metadata": {},
     "output_type": "execute_result"
    }
   ],
   "source": [
    "frame"
   ]
  },
  {
   "cell_type": "code",
   "execution_count": 97,
   "metadata": {},
   "outputs": [
    {
     "data": {
      "text/plain": [
       "array([[[0.5   , 0.5   , 0.5   ],\n",
       "        [0.5   , 0.4999, 0.5   ],\n",
       "        [0.5   , 0.4999, 0.5   ],\n",
       "        [0.5001, 0.4999, 0.5   ],\n",
       "        [0.5   , 0.4998, 0.5   ],\n",
       "        [0.4997, 0.5001, 0.5   ],\n",
       "        ...,\n",
       "        [0.4998, 0.4999, 0.5001],\n",
       "        [0.5   , 0.5001, 0.5   ],\n",
       "        [0.4999, 0.5002, 0.4999],\n",
       "        [0.5   , 0.5   , 0.5   ],\n",
       "        [0.5   , 0.5001, 0.5   ],\n",
       "        [0.5   , 0.5001, 0.5   ]],\n",
       "\n",
       "       [[0.5   , 0.5   , 0.5   ],\n",
       "        [0.5001, 0.5   , 0.5   ],\n",
       "        [0.4999, 0.4999, 0.5001],\n",
       "        [0.5001, 0.4999, 0.5001],\n",
       "        [0.4998, 0.4998, 0.5   ],\n",
       "        [0.5   , 0.4999, 0.5001],\n",
       "        ...,\n",
       "        [0.5003, 0.5001, 0.4999],\n",
       "        [0.5   , 0.5001, 0.5001],\n",
       "        [0.5002, 0.5   , 0.5001],\n",
       "        [0.5   , 0.5   , 0.4999],\n",
       "        [0.5001, 0.5001, 0.5   ],\n",
       "        [0.5001, 0.5002, 0.4999]],\n",
       "\n",
       "       [[0.5   , 0.4999, 0.5001],\n",
       "        [0.5   , 0.4999, 0.5   ],\n",
       "        [0.4999, 0.5   , 0.5   ],\n",
       "        [0.4998, 0.5001, 0.5   ],\n",
       "        [0.5001, 0.4999, 0.4997],\n",
       "        [0.5002, 0.4999, 0.5001],\n",
       "        ...,\n",
       "        [0.4996, 0.5002, 0.5002],\n",
       "        [0.5   , 0.4999, 0.4998],\n",
       "        [0.5   , 0.5   , 0.5002],\n",
       "        [0.5002, 0.5   , 0.5002],\n",
       "        [0.5   , 0.5001, 0.4999],\n",
       "        [0.5   , 0.4998, 0.5   ]],\n",
       "\n",
       "       [[0.5001, 0.5   , 0.5   ],\n",
       "        [0.5   , 0.5   , 0.5001],\n",
       "        [0.4999, 0.5001, 0.4999],\n",
       "        [0.5   , 0.5   , 0.5003],\n",
       "        [0.4999, 0.5001, 0.4998],\n",
       "        [0.4998, 0.5002, 0.5   ],\n",
       "        ...,\n",
       "        [0.5   , 0.5   , 0.4999],\n",
       "        [0.5001, 0.5   , 0.5   ],\n",
       "        [0.5   , 0.5001, 0.4999],\n",
       "        [0.5002, 0.4998, 0.4998],\n",
       "        [0.4999, 0.4999, 0.5   ],\n",
       "        [0.5001, 0.5001, 0.4998]],\n",
       "\n",
       "       [[0.5001, 0.5   , 0.4998],\n",
       "        [0.4999, 0.4999, 0.4997],\n",
       "        [0.5   , 0.5002, 0.5001],\n",
       "        [0.5001, 0.5001, 0.4999],\n",
       "        [0.4997, 0.5   , 0.4996],\n",
       "        [0.5003, 0.5001, 0.5   ],\n",
       "        ...,\n",
       "        [0.4998, 0.5011, 0.4998],\n",
       "        [0.5002, 0.5002, 0.5001],\n",
       "        [0.4996, 0.4998, 0.4998],\n",
       "        [0.4998, 0.4997, 0.5001],\n",
       "        [0.5   , 0.5003, 0.4998],\n",
       "        [0.5   , 0.4999, 0.5001]],\n",
       "\n",
       "       [[0.5   , 0.4999, 0.5   ],\n",
       "        [0.5001, 0.4999, 0.5001],\n",
       "        [0.5   , 0.5   , 0.4998],\n",
       "        [0.5001, 0.4999, 0.5003],\n",
       "        [0.5005, 0.4998, 0.5001],\n",
       "        [0.5005, 0.5   , 0.5002],\n",
       "        ...,\n",
       "        [0.5003, 0.5003, 0.5001],\n",
       "        [0.5006, 0.5004, 0.4999],\n",
       "        [0.4999, 0.5003, 0.4997],\n",
       "        [0.5002, 0.4996, 0.5002],\n",
       "        [0.5001, 0.5002, 0.5   ],\n",
       "        [0.5   , 0.4999, 0.4999]],\n",
       "\n",
       "       ...,\n",
       "\n",
       "       [[0.5   , 0.5   , 0.4999],\n",
       "        [0.5001, 0.5   , 0.5001],\n",
       "        [0.5002, 0.4998, 0.4999],\n",
       "        [0.4998, 0.4999, 0.5   ],\n",
       "        [0.4998, 0.5006, 0.4999],\n",
       "        [0.4995, 0.5001, 0.5002],\n",
       "        ...,\n",
       "        [0.5004, 0.5002, 0.4998],\n",
       "        [0.5002, 0.5001, 0.4993],\n",
       "        [0.4994, 0.5002, 0.4998],\n",
       "        [0.4999, 0.5006, 0.4999],\n",
       "        [0.4999, 0.5003, 0.5001],\n",
       "        [0.5001, 0.5002, 0.5001]],\n",
       "\n",
       "       [[0.4998, 0.4999, 0.5002],\n",
       "        [0.5003, 0.5001, 0.5   ],\n",
       "        [0.4996, 0.5001, 0.4998],\n",
       "        [0.5001, 0.5001, 0.5005],\n",
       "        [0.4996, 0.5002, 0.4999],\n",
       "        [0.5001, 0.5001, 0.4999],\n",
       "        ...,\n",
       "        [0.4994, 0.4997, 0.4998],\n",
       "        [0.5005, 0.4995, 0.5003],\n",
       "        [0.5004, 0.5002, 0.4999],\n",
       "        [0.5   , 0.4999, 0.5002],\n",
       "        [0.5   , 0.4998, 0.4998],\n",
       "        [0.5003, 0.4998, 0.4997]],\n",
       "\n",
       "       [[0.5   , 0.4999, 0.5002],\n",
       "        [0.4999, 0.4999, 0.5001],\n",
       "        [0.4999, 0.5   , 0.4999],\n",
       "        [0.5002, 0.5001, 0.5003],\n",
       "        [0.4997, 0.4998, 0.5003],\n",
       "        [0.4998, 0.5002, 0.5   ],\n",
       "        ...,\n",
       "        [0.4997, 0.5003, 0.5002],\n",
       "        [0.5   , 0.5003, 0.5003],\n",
       "        [0.4999, 0.5003, 0.5001],\n",
       "        [0.4998, 0.5001, 0.5   ],\n",
       "        [0.4998, 0.5002, 0.5   ],\n",
       "        [0.4999, 0.5001, 0.5002]],\n",
       "\n",
       "       [[0.5001, 0.5   , 0.4999],\n",
       "        [0.5   , 0.5002, 0.5   ],\n",
       "        [0.5003, 0.5   , 0.5002],\n",
       "        [0.4999, 0.5001, 0.4999],\n",
       "        [0.5001, 0.5002, 0.5001],\n",
       "        [0.5004, 0.4999, 0.5   ],\n",
       "        ...,\n",
       "        [0.5   , 0.4997, 0.5001],\n",
       "        [0.5005, 0.4997, 0.4997],\n",
       "        [0.4999, 0.5002, 0.5   ],\n",
       "        [0.5003, 0.4998, 0.4999],\n",
       "        [0.5   , 0.4998, 0.4998],\n",
       "        [0.5   , 0.4998, 0.4998]],\n",
       "\n",
       "       [[0.5   , 0.5001, 0.5   ],\n",
       "        [0.5   , 0.5   , 0.5   ],\n",
       "        [0.4998, 0.5   , 0.5   ],\n",
       "        [0.4999, 0.5   , 0.4999],\n",
       "        [0.4998, 0.5004, 0.4999],\n",
       "        [0.5001, 0.5002, 0.5001],\n",
       "        ...,\n",
       "        [0.5   , 0.5002, 0.5   ],\n",
       "        [0.5001, 0.5004, 0.5001],\n",
       "        [0.4999, 0.5002, 0.5002],\n",
       "        [0.5   , 0.5003, 0.4999],\n",
       "        [0.4999, 0.5001, 0.5   ],\n",
       "        [0.5002, 0.5001, 0.5   ]],\n",
       "\n",
       "       [[0.5   , 0.5001, 0.5   ],\n",
       "        [0.5002, 0.4999, 0.5   ],\n",
       "        [0.5   , 0.5   , 0.5   ],\n",
       "        [0.5001, 0.5002, 0.5001],\n",
       "        [0.5001, 0.4999, 0.4997],\n",
       "        [0.5002, 0.5   , 0.4999],\n",
       "        ...,\n",
       "        [0.4999, 0.5002, 0.5002],\n",
       "        [0.5002, 0.4999, 0.5001],\n",
       "        [0.5001, 0.5001, 0.5001],\n",
       "        [0.5003, 0.4999, 0.4998],\n",
       "        [0.5   , 0.4999, 0.5001],\n",
       "        [0.5002, 0.5   , 0.4998]]], dtype=float32)"
      ]
     },
     "execution_count": 97,
     "metadata": {},
     "output_type": "execute_result"
    }
   ],
   "source": [
    "reconstruct[0]"
   ]
  },
  {
   "cell_type": "code",
   "execution_count": null,
   "metadata": {},
   "outputs": [],
   "source": []
  }
 ],
 "metadata": {
  "kernelspec": {
   "display_name": "Python 3",
   "language": "python",
   "name": "python3"
  },
  "language_info": {
   "codemirror_mode": {
    "name": "ipython",
    "version": 3
   },
   "file_extension": ".py",
   "mimetype": "text/x-python",
   "name": "python",
   "nbconvert_exporter": "python",
   "pygments_lexer": "ipython3",
   "version": "3.5.5"
  }
 },
 "nbformat": 4,
 "nbformat_minor": 2
}
